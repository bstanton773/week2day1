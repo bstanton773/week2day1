{
 "cells": [
  {
   "cell_type": "markdown",
   "metadata": {},
   "source": [
    "`1. Write a function that loops over all strings within the collection passed in, and changes all vowels to a dash.`\n",
    "\n",
    "<strong>Example</strong>: [ \"Bob\", \"Vowel\", \"Hello\" ]\n",
    "<br>\n",
    "<strong>Output</strong>: [ \"B-b\", \"V-w-l\", \"H-ll-\" ]"
   ]
  },
  {
   "cell_type": "code",
   "execution_count": null,
   "metadata": {},
   "outputs": [],
   "source": [
    "\n",
    "    \n"
   ]
  },
  {
   "cell_type": "markdown",
   "metadata": {},
   "source": [
    "`2. Write a program which will find all such numbers which are divisible by 7 but are not a multiple of 5, between 2000 and 3200 (both included). The numbers obtained should be printed in a comma-separated sequence on a single line.`"
   ]
  },
  {
   "cell_type": "code",
   "execution_count": null,
   "metadata": {},
   "outputs": [],
   "source": []
  },
  {
   "cell_type": "markdown",
   "metadata": {},
   "source": [
    "`3. Write a program that calculates the number of upper case letters and lower case letters in a sentence.`\n",
    "\n",
    "<strong>Example</strong>: \"Hello world!\"\n",
    "<br>\n",
    "<strong>Output</strong>: <br>\n",
    "UPPER CASE 1\n",
    "<br>\n",
    "LOWER CASE 9"
   ]
  },
  {
   "cell_type": "code",
   "execution_count": null,
   "metadata": {},
   "outputs": [],
   "source": []
  },
  {
   "cell_type": "markdown",
   "metadata": {},
   "source": [
    "`4. Write a program that accepts a sentence and calculate the number of letters and digits.`\n",
    "\n",
    "<strong>Example</strong>: \"hello world! 123\"\n",
    "<br>\n",
    "<strong>Output</strong>:<br>\n",
    "LETTERS 10<br>\n",
    "DIGITS 3"
   ]
  },
  {
   "cell_type": "code",
   "execution_count": null,
   "metadata": {},
   "outputs": [],
   "source": []
  },
  {
   "cell_type": "markdown",
   "metadata": {},
   "source": [
    "`5. Write a program that creates a pyramid of Xs`\n",
    "\n",
    "<strong>Output</strong>:\n",
    "<br>\n",
    "&nbsp;&nbsp;&nbsp;&nbsp;&nbsp;&nbsp;&nbsp;&nbsp;X<br>\n",
    "&nbsp;&nbsp;&nbsp;&nbsp;&nbsp;&nbsp;XXX<br>\n",
    "&nbsp;&nbsp;&nbsp;&nbsp;XXXXX<br>\n",
    "&nbsp;&nbsp;XXXXXXX<br>\n",
    "XXXXXXXXX<br>"
   ]
  },
  {
   "cell_type": "code",
   "execution_count": null,
   "metadata": {},
   "outputs": [],
   "source": []
  },
  {
   "cell_type": "code",
   "execution_count": null,
   "metadata": {},
   "outputs": [],
   "source": []
  }
 ],
 "metadata": {
  "kernelspec": {
   "display_name": "Python 3",
   "language": "python",
   "name": "python3"
  },
  "language_info": {
   "codemirror_mode": {
    "name": "ipython",
    "version": 3
   },
   "file_extension": ".py",
   "mimetype": "text/x-python",
   "name": "python",
   "nbconvert_exporter": "python",
   "pygments_lexer": "ipython3",
   "version": "3.8.5"
  }
 },
 "nbformat": 4,
 "nbformat_minor": 4
}
